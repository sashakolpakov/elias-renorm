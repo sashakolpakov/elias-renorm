{
  "nbformat": 4,
  "nbformat_minor": 0,
  "metadata": {
    "colab": {
      "provenance": []
    },
    "kernelspec": {
      "name": "python3",
      "display_name": "Python 3"
    },
    "language_info": {
      "name": "python"
    }
  },
  "cells": [
    {
      "cell_type": "code",
      "execution_count": 3,
      "metadata": {
        "id": "dAjnGEBpsRvd"
      },
      "outputs": [],
      "source": [
        "import math\n",
        "\n",
        "# A cache for f(n). Since the only values needed are small (n comes from bit‐lengths),\n",
        "# the cache remains tiny.\n",
        "_f_cache = {1: 1}\n",
        "\n",
        "def f(n):\n",
        "    \"\"\"\n",
        "    Recursively compute the Elias Omega code length for the positive integer n.\n",
        "    By definition:\n",
        "        f(1) = 1,\n",
        "        f(n) = f(floor(log2 n)) + floor(log2 n) + 1,  for n > 1.\n",
        "    For n in a full group (i.e. n with L bits), we have f(n)=f(L-1)+L.\n",
        "    \"\"\"\n",
        "    if n in _f_cache:\n",
        "        return _f_cache[n]\n",
        "    # Use n.bit_length()-1 which is floor(log2 n)\n",
        "    m = n.bit_length() - 1\n",
        "    _f_cache[n] = f(m) + m + 1\n",
        "    return _f_cache[n]\n",
        "\n",
        "def sum_omega_power_of_two(N):\n",
        "    \"\"\"\n",
        "    Compute S(2^N) = sum_{n=1}^{2^N} 2^{-f(n)}\n",
        "    by grouping numbers according to their bit-length.\n",
        "\n",
        "    Parameters:\n",
        "        N (int): Exponent so that the sum runs over n = 1,2,...,2^N.\n",
        "\n",
        "    Returns:\n",
        "        float: The computed sum.\n",
        "    \"\"\"\n",
        "    total = 0.0\n",
        "\n",
        "    # Group for bit-length L=1 (n==1):\n",
        "    total += 2 ** (-f(1))  # f(1) is 1, so contribution is 2^{-1}.\n",
        "\n",
        "    # Groups for bit-length L=2 to L=N (full groups):\n",
        "    for L in range(2, N+1):\n",
        "        # For any n with L bits, f(n)= f(L-1) + L.\n",
        "        # There are 2^(L-1) numbers with L bits, each contributing 2^{-(f(L-1)+L)}.\n",
        "        # So the full group's contribution is:\n",
        "        #   2^(L-1)*2^{-(f(L-1)+L)} = 2^{-(f(L-1)+1)}\n",
        "        total += 2 ** (-(f(L-1) + 1))\n",
        "\n",
        "    # Top (partial) group: n = 2^N is the only number with bit-length N+1.\n",
        "    # Its code length is f(2^N) = f(N) + N + 1.\n",
        "    total += 2 ** (-(f(N) + N + 1))\n",
        "\n",
        "    return total"
      ]
    },
    {
      "cell_type": "code",
      "source": [
        "# Computing some values of the Kraft sum, and observing slow convergence\n",
        "\n",
        "for N in [8, 16, 32, 2**8, 2**16, 2**24]:\n",
        "  s = sum_omega_power_of_two(N)\n",
        "  print(f\"Sum for n = 1 to 2^{N} is approximately {s}\")"
      ],
      "metadata": {
        "colab": {
          "base_uri": "https://localhost:8080/"
        },
        "id": "21JKaFR4s5a_",
        "outputId": "ae3c0e98-9779-49e9-f823-412e2b0a88cb"
      },
      "execution_count": 4,
      "outputs": [
        {
          "output_type": "stream",
          "name": "stdout",
          "text": [
            "Sum for n = 1 to 2^8 is approximately 0.9062652587890625\n",
            "Sum for n = 1 to 2^16 is approximately 0.9375000037252903\n",
            "Sum for n = 1 to 2^32 is approximately 0.9414062500000284\n",
            "Sum for n = 1 to 2^256 is approximately 0.953125\n",
            "Sum for n = 1 to 2^65536 is approximately 0.96875\n",
            "Sum for n = 1 to 2^16777216 is approximately 0.9697265625\n"
          ]
        }
      ]
    }
  ]
}